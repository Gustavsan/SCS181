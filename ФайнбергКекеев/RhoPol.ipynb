{
 "cells": [
  {
   "cell_type": "code",
   "execution_count": 1,
   "id": "db547749",
   "metadata": {},
   "outputs": [],
   "source": [
    "def filledMassive(count, modulo,):\n",
    "    arr = []\n",
    "    l=0\n",
    "    while(l<count):\n",
    "        arr.append(randint(0, modulo))\n",
    "        l=l+1\n",
    "    return arr"
   ]
  },
  {
   "cell_type": "code",
   "execution_count": 2,
   "id": "2182c4fd",
   "metadata": {},
   "outputs": [],
   "source": [
    "def f(z, a, b, s, alpha, beta):\n",
    "    return z * a ** alpha[lift(z) % s] * b ** beta[lift(z) % s]"
   ]
  },
  {
   "cell_type": "code",
   "execution_count": 9,
   "id": "600f6488",
   "metadata": {},
   "outputs": [],
   "source": [
    "\n",
    "def Poland(a: Mod, b: Mod, p: Integer) -> Integer:\n",
    "    s = 500\n",
    "    opCount = 0\n",
    "    if p < 500:\n",
    "        s = p // 2\n",
    "    m = p - 1\n",
    "    k0 = Mod(ZZ.random_element(m, distribution='uniform'), m)\n",
    "    y = z = (a ** k0) % p\n",
    "    Ay = Az = Mod(k0, m)\n",
    "    By = Bz = Mod(0, m)\n",
    "    x = Mod(0, m)\n",
    "    i = j = 0\n",
    "    alphas = filledMassive(s, m)\n",
    "    betas = filledMassive(s, m)\n",
    "\n",
    "    isStart = True\n",
    "    while isStart or z != y:\n",
    "\n",
    "        opCount += 1\n",
    "        isStart = False\n",
    "        z = f(z, a, b, s, alphas, betas)\n",
    "        i = lift(z) % s\n",
    "        Az += alphas[i]\n",
    "        Bz += betas[i]\n",
    "\n",
    "        y = f(y, a, b, s, alphas, betas)\n",
    "        i = lift(y) % s\n",
    "        y = f(y, a, b, s, alphas, betas)\n",
    "        j = lift(y) % s\n",
    "        Ay += alphas[i] + alphas[j]\n",
    "        By += betas[i] + betas[j]\n",
    "\n",
    "    Adif = lift(Az - Ay)\n",
    "    Bdif = lift(By - Bz)\n",
    "\n",
    "    GCD = gcd(Bdif, m)\n",
    "    if GCD > 1:\n",
    "        if Adif % GCD != 0:\n",
    "            x, opCount1 = Poland(a, b, p)\n",
    "            return x, opCount + opCount1\n",
    "        else:\n",
    "            Adif = Adif // GCD\n",
    "            Bdif = Bdif // GCD\n",
    "            m = m // GCD\n",
    "\n",
    "    Bdif = inverse_mod(Bdif, m)\n",
    "    x = Mod(Adif * Bdif, m * GCD)\n",
    "    x -= m\n",
    "    for i in range(GCD):\n",
    "        x += m\n",
    "        if a ** x == b:\n",
    "            return x, opCount\n",
    "    x, opCount1 = Poland(a, b, p)\n",
    "    return x, opCount + opCount1"
   ]
  },
  {
   "cell_type": "code",
   "execution_count": 10,
   "id": "d74238e8",
   "metadata": {},
   "outputs": [
    {
     "name": "stdout",
     "output_type": "stream",
     "text": [
      "0\n",
      "1\n",
      "2\n",
      "3\n",
      "4\n",
      "5\n",
      "6\n",
      "7\n",
      "8\n",
      "9\n",
      "10\n",
      "11\n",
      "12\n",
      "13\n",
      "14\n",
      "15\n",
      "16\n",
      "17\n",
      "18\n",
      "19\n",
      "20\n",
      "21\n",
      "22\n",
      "23\n",
      "24\n",
      "25\n",
      "26\n",
      "27\n",
      "28\n",
      "29\n"
     ]
    }
   ],
   "source": [
    "sptime = []\n",
    "spoperation = []\n",
    "import time\n",
    "xArr = []\n",
    "lArr = []\n",
    "for jj in range(30):\n",
    "    print(jj)\n",
    "    p = next_prime(2 ** jj)\n",
    "    a = Mod(ZZ.random_element(p), p)\n",
    "    b = a ** ZZ.random_element(p - 1)\n",
    "\n",
    "    t1 = time.time()\n",
    "\n",
    "    x, operationCount = Poland(a, b, p)\n",
    "\n",
    "    t2 = time.time()\n",
    "    sptime.append((t2 - t1))\n",
    "    spoperation.append(operationCount)\n",
    "    xArr.append(x)\n",
    "    if b==1:\n",
    "        lArr.append(-1)\n",
    "    else:\n",
    "        lArr.append(log(lift(b), lift(a)))"
   ]
  },
  {
   "cell_type": "code",
   "execution_count": 11,
   "id": "a7911c39",
   "metadata": {},
   "outputs": [
    {
     "name": "stdout",
     "output_type": "stream",
     "text": [
      "[0, 0, 3, 2, 13, 1, 38, 18, 40, 379, 486, 984, 1719, 4536, 11078, 5310, 55902, 26514, 209946, 235375, 224457, 969463, 1764502, 1408026, 5319641, 18944214, 30208653, 48702001, 71346587, 161783465]\n",
      "[-1, -1, log(2)/log(3), log(3)/log(6), log(3)/log(5), 1, 1/3*log(5)/log(2), 2*log(5)/log(75), log(68)/log(86), log(293)/log(26), log(207)/log(644), 2*log(10)/log(1703), log(1523)/log(697), log(57)/log(3577), log(12733)/log(5604), log(25135)/log(16130), log(28782)/log(58630), log(96536)/log(72757), log(52968)/log(120946), log(31271)/log(385617), log(474965)/log(596864), log(1498320)/log(658182), log(3102944)/log(379796), log(3692182)/log(2425852), log(13582093)/log(4963471), log(10178684)/log(712566), log(5966672)/log(3348978), log(77433739)/log(9458933), log(232637165)/log(206652866), log(28656772)/log(328018610)]\n"
     ]
    },
    {
     "data": {
      "text/plain": [
       "<function show at 0x7f64a551dd30>"
      ]
     },
     "execution_count": 11,
     "metadata": {},
     "output_type": "execute_result"
    },
    {
     "data": {
      "image/png": "[encoded data removed]",
      "text/plain": [
       "<Figure size 432x288 with 1 Axes>"
      ]
     },
     "metadata": {
      "needs_background": "light"
     },
     "output_type": "display_data"
    }
   ],
   "source": [
    "import matplotlib.pyplot as plt\n",
    "import numpy as np\n",
    "y2 = np.array(xArr)\n",
    "y1 = np.array(lArr)\n",
    "print(xArr)\n",
    "print(lArr)\n",
    "x=sptime\n",
    "plt.plot(x, y1)\n",
    "plt.plot(x, y2)\n",
    "plt.show"
   ]
  },
  {
   "cell_type": "code",
   "execution_count": null,
   "id": "458badd6",
   "metadata": {},
   "outputs": [],
   "source": []
  },
  {
   "cell_type": "code",
   "execution_count": null,
   "id": "8d2d9ddf",
   "metadata": {},
   "outputs": [],
   "source": []
  }
 ],
 "metadata": {
  "kernelspec": {
   "display_name": "SageMath 9.5",
   "language": "sage",
   "name": "sagemath"
  },
  "language_info": {
   "codemirror_mode": {
    "name": "ipython",
    "version": 3
   },
   "file_extension": ".py",
   "mimetype": "text/x-python",
   "name": "python",
   "nbconvert_exporter": "python",
   "pygments_lexer": "ipython3",
   "version": "3.9.10"
  }
 },
 "nbformat": 4,
 "nbformat_minor": 5
}
