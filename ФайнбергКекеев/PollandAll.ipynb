{
 "cells": [
  {
   "cell_type": "code",
   "execution_count": 29,
   "id": "82a8e1cd",
   "metadata": {},
   "outputs": [],
   "source": [
    "import numpy as np\n",
    "import random \n",
    "\n",
    "def ext_euclid_algor(a, b):\n",
    "    # алгоритм Евклида используется для обратного вычисления\n",
    "    if b == 0:\n",
    "        return a, 1, 0\n",
    "    else:\n",
    "        d, xx, yy = ext_euclid_algor(b, a % b)\n",
    "        x = yy\n",
    "        y = xx - (a // b) * yy\n",
    "        return d, x, y"
   ]
  },
  {
   "cell_type": "code",
   "execution_count": 30,
   "id": "745ff55e",
   "metadata": {},
   "outputs": [],
   "source": [
    "def inverse(a, n):\n",
    "    #инверсия а по mod n\n",
    "    return int(ext_euclid_algor(a, n)[1])"
   ]
  },
  {
   "cell_type": "code",
   "execution_count": 31,
   "id": "1deaf742",
   "metadata": {},
   "outputs": [],
   "source": [
    "def step1(x, a, b, tuple):\n",
    "    G, H, P, Q = tuple[0], tuple[1], tuple[2], tuple[3]\n",
    "\n",
    "    sub = lift(x) % 3 \n",
    "    if sub == 0:\n",
    "        x = x*G % P\n",
    "        a = (a+1) % Q\n",
    "\n",
    "    if sub == 1:\n",
    "        x = x * H % P\n",
    "        b = (b + 1) % Q\n",
    "\n",
    "    if sub == 2:\n",
    "        x = x*x % P\n",
    "        a = a*2 % Q\n",
    "        b = b*2 % Q\n",
    "    return x, a, b\n"
   ]
  },
  {
   "cell_type": "code",
   "execution_count": 32,
   "id": "fb5c6d5a",
   "metadata": {},
   "outputs": [],
   "source": [
    "\n",
    "\n",
    "def step2(x, a, b, tuple):\n",
    "    G, H, P, Q = tuple[0], tuple[1], tuple[2], tuple[3]\n",
    "    \n",
    "    l = np.random.randint(1, G)\n",
    "    k = np.random.randint(1, G)\n",
    "    L = pow(G, l)\n",
    "    K = pow(H, k)\n",
    "\n",
    "    \n",
    "    sub = lift(x) % 3 \n",
    "\n",
    "    if sub == 0:\n",
    "        x = x*L % P\n",
    "        a = (a+l) % Q\n",
    "        b=b\n",
    "\n",
    "    if sub == 1:\n",
    "        x = x * K % P\n",
    "        b = (b + l) % Q\n",
    "        a = a % Q\n",
    "        \n",
    "    if sub == 2:\n",
    "        x = x*x % P\n",
    "        a = a*2 % Q\n",
    "        b = b*2 % Q\n",
    "    return x, a, b\n"
   ]
  },
  {
   "cell_type": "code",
   "execution_count": 33,
   "id": "77ea315a",
   "metadata": {},
   "outputs": [],
   "source": [
    "\n",
    "\n",
    "def step3(x, a, b, tuple):\n",
    "    G, H, P, Q = tuple[0], tuple[1], tuple[2], tuple[3]\n",
    "    l = []\n",
    "    k = []\n",
    "    i = 0\n",
    "    while i<20:\n",
    "        l.append(np.random.randint(1, G))\n",
    "        k.append(np.random.randint(1, G))\n",
    "        i+=1\n",
    "        \n",
    "    i = 0\n",
    "    sub = lift(x) % 20 # Subsets\n",
    "    \n",
    "    L = pow(G, l[sub]) * pow(H, k[sub])\n",
    "    x = x*L % P\n",
    "    a = (a + l[sub]) % Q\n",
    "    b = (b + k[sub]) % Q \n",
    "    \n",
    "    \n",
    "    return x, a, b\n"
   ]
  },
  {
   "cell_type": "code",
   "execution_count": 34,
   "id": "e99cc75e",
   "metadata": {},
   "outputs": [],
   "source": [
    "\n",
    "def step4(x, a, b, tuple):\n",
    "    G, H, P, Q = tuple[0], tuple[1], tuple[2], tuple[3]\n",
    "    l = []\n",
    "    k = []\n",
    "    i = 0\n",
    "    while i<20:\n",
    "        l.append(np.random.randint(1, G))\n",
    "        k.append(np.random.randint(1, G))\n",
    "        i+=1\n",
    "    \n",
    "    u1, u2, u3, u4 = random.sample(range(1, G), 4)\n",
    " \n",
    "    i = 0\n",
    "    sub = lift(x) % 20 # Subsets\n",
    "    if sub != u1 or sub != u2 or sub != u3 or sub != u4:\n",
    "        L = pow(G, l[sub]) * pow(H, k[sub])\n",
    "        x = x*L % P\n",
    "        a = (a + l[sub]) % Q\n",
    "        b = (b + k[sub]) % Q \n",
    "    else:\n",
    "        x = x * x\n",
    "        a = (2 * a) % Q\n",
    "        b = (2 * b) % Q\n",
    "        \n",
    "    \n",
    "    return x, a, b\n"
   ]
  },
  {
   "cell_type": "code",
   "execution_count": 35,
   "id": "e623c52d",
   "metadata": {},
   "outputs": [],
   "source": [
    "def pollard1(G, H, P):\n",
    "    #G-генератор\n",
    "    #P-простое число\n",
    "    opCount = 0\n",
    "    \n",
    "    Q = int((P - 1) // 2)  # подгруппа\n",
    "    x = G*H\n",
    "    a = 1\n",
    "    b = 1\n",
    "\n",
    "    X = x\n",
    "    A = a\n",
    "    B = b\n",
    "    \n",
    "    for i in range(1, P):\n",
    "        x, a, b = step1(x, a, b, (G, H, P, Q))\n",
    "        opCount += 1\n",
    "        X, A, B = step1(X, A, B, (G, H, P, Q))\n",
    "        opCount += 1\n",
    "        X, A, B = step1(X, A, B, (G, H, P, Q))\n",
    "        opCount += 1\n",
    "\n",
    "        if x == X:\n",
    "            break\n",
    "        \n",
    "    nom = a-A\n",
    "    denom = B-b\n",
    "    #Необходимо вычислить обратное значение, чтобы правильно вычислить дробь по модулю q.\n",
    "    res = (inverse(denom, Q) * nom) % Q\n",
    "\n",
    "    if verify(G, H, P, res):\n",
    "        return res, opCount\n",
    "\n",
    "    return res + Q, opCount\n"
   ]
  },
  {
   "cell_type": "code",
   "execution_count": 36,
   "id": "080940c6",
   "metadata": {},
   "outputs": [],
   "source": [
    "def pollard2(G, H, P):\n",
    "  \n",
    "    opCount = 0\n",
    "    \n",
    "    Q = int((P - 1) // 2)\n",
    "    x = G*H\n",
    "    a = 1\n",
    "    b = 1\n",
    "\n",
    "    X = x\n",
    "    A = a\n",
    "    B = b\n",
    "    \n",
    "    for i in range(1, P):\n",
    "    \n",
    "        x, a, b = step2(x, a, b, (G, H, P, Q))\n",
    "        opCount += 1\n",
    "        X, A, B = step2(X, A, B, (G, H, P, Q))\n",
    "        opCount += 1\n",
    "        X, A, B = step2(X, A, B, (G, H, P, Q))\n",
    "        opCount += 1\n",
    "\n",
    "        if x == X:\n",
    "            break\n",
    "        \n",
    "    nom = a-A\n",
    "    denom = B-b\n",
    "\n",
    "    res = (inverse(denom, Q) * nom) % Q\n",
    "\n",
    "    if verify(G, H, P, res):\n",
    "        return res, opCount\n",
    "\n",
    "    return res + Q, opCount\n"
   ]
  },
  {
   "cell_type": "code",
   "execution_count": 37,
   "id": "9c43b3e6",
   "metadata": {},
   "outputs": [],
   "source": [
    "def pollard3(G, H, P):\n",
    "\n",
    "    opCount = 0\n",
    "    \n",
    "    Q = int((P - 1) // 2) \n",
    "    x = G*H\n",
    "    a = 1\n",
    "    b = 1\n",
    "\n",
    "    X = x\n",
    "    A = a\n",
    "    B = b\n",
    "    \n",
    "    for i in range(1, P):\n",
    "        x, a, b = step3(x, a, b, (G, H, P, Q))\n",
    "        opCount += 1\n",
    "        X, A, B = step3(X, A, B, (G, H, P, Q))\n",
    "        opCount += 1\n",
    "        X, A, B = step3(X, A, B, (G, H, P, Q))\n",
    "        opCount += 1\n",
    "\n",
    "        if x == X:\n",
    "            break\n",
    "        \n",
    "    nom = a-A\n",
    "    denom = B-b\n",
    "    \n",
    "    res = (inverse(denom, Q) * nom) % Q\n",
    "\n",
    "    if verify(G, H, P, res):\n",
    "        return res, opCount\n",
    "\n",
    "    return res + Q, opCount\n"
   ]
  },
  {
   "cell_type": "code",
   "execution_count": 38,
   "id": "f2756dc7",
   "metadata": {},
   "outputs": [],
   "source": [
    "def pollard4(G, H, P):\n",
    "    #G-генератор\n",
    "    #H\n",
    "    #P-простое число\n",
    "    opCount = 0\n",
    "    \n",
    "    Q = int((P - 1) // 2)  # подгруппа\n",
    "    x = G*H\n",
    "    a = 1\n",
    "    b = 1\n",
    "\n",
    "    X = x\n",
    "    A = a\n",
    "    B = b\n",
    "    \n",
    "    for i in range(1, P):\n",
    "        x, a, b = step4(x, a, b, (G, H, P, Q))\n",
    "        opCount += 1\n",
    "        X, A, B = step4(X, A, B, (G, H, P, Q))\n",
    "        opCount += 1\n",
    "        X, A, B = step4(X, A, B, (G, H, P, Q))\n",
    "        opCount += 1\n",
    "\n",
    "        if x == X:\n",
    "            break\n",
    "        \n",
    "    nom = a-A\n",
    "    denom = B-b\n",
    "\n",
    "    res = (inverse(denom, Q) * nom) % Q\n",
    "\n",
    "    if verify(G, H, P, res):\n",
    "        return res, opCount\n",
    "\n",
    "    return res + Q, opCount\n"
   ]
  },
  {
   "cell_type": "code",
   "execution_count": 39,
   "id": "147caf4c",
   "metadata": {},
   "outputs": [],
   "source": [
    "def verify(g, h, p, x):\n",
    "    #Проверяет заданный набор g, h, p и x\n",
    "    return pow(g, int(x), p) == h"
   ]
  },
  {
   "cell_type": "code",
   "execution_count": 40,
   "id": "3e8bcd7f",
   "metadata": {},
   "outputs": [
    {
     "name": "stdout",
     "output_type": "stream",
     "text": [
      "5\n",
      "6\n",
      "7\n",
      "8\n",
      "9\n",
      "10\n",
      "11\n",
      "12\n",
      "13\n",
      "14\n",
      "15\n",
      "16\n",
      "17\n",
      "[[0.00047278404235839844, 0.00013875961303710938, 0.00023603439331054688, 0.00020742416381835938, 0.000156402587890625, 0.00014591217041015625, 0.0009288787841796875, 0.0004868507385253906, 0.001817941665649414, 0.0019676685333251953, 0.004184246063232422, 0.0010733604431152344, 0.005812883377075195], [0.0018873214721679688, 0.0021872520446777344, 0.0001876354217529297, 0.0040280818939208984, 0.006245613098144531, 0.0051212310791015625, 0.10782837867736816, 0.005463600158691406, 0.5402181148529053, 0.06340742111206055, 0.03857421875, 0.03180074691772461, 8.101769924163818], [0.041144609451293945, 0.036924123764038086, 0.007257699966430664, 0.0033082962036132812, 0.1938633918762207, 0.025688886642456055, 0.20734262466430664, 0.09520745277404785, 7.331570863723755, 1.4127428531646729, 9.74161148071289, 26.005481719970703, 73.62638640403748], [0.034430742263793945, 0.027186870574951172, 0.01475834846496582, 0.07543253898620605, 0.4428105354309082, 0.10467791557312012, 1.4484870433807373, 0.06952643394470215, 7.890382766723633, 1.6811788082122803, 1.5792021751403809, 18.86026930809021, 121.63652014732361]]\n",
      "Operations invoked: 393300\n"
     ]
    }
   ],
   "source": [
    "import time\n",
    "jj=5\n",
    "sptime = [[],[],[],[]]\n",
    "spoperation = [[],[],[],[]]\n",
    "\n",
    "while jj < 18:\n",
    "    print(jj)\n",
    "    M = next_prime(2 ** jj)\n",
    "    A = Mod(ZZ.random_element(M), M)\n",
    "    B = A ** ZZ.random_element(M - 1)\n",
    "\n",
    "    t1 = time.time()\n",
    "\n",
    "    res, opCount = pollard1(A, B, M)\n",
    "\n",
    "    t2 = time.time()\n",
    "    sptime[0].append((t2 - t1))\n",
    "    spoperation[0].append(opCount)\n",
    "    t1 = time.time()\n",
    "\n",
    "    res, opCount = pollard2(A, B, M)\n",
    "\n",
    "    t2 = time.time()\n",
    "    sptime[1].append((t2 - t1))\n",
    "    spoperation[1].append(opCount)\n",
    "    t1 = time.time()\n",
    "\n",
    "    res, opCount = pollard3(A, B, M)\n",
    "\n",
    "    t2 = time.time()\n",
    "    sptime[2].append((t2 - t1))\n",
    "    spoperation[2].append(opCount)\n",
    "    t1 = time.time()\n",
    "\n",
    "    res, opCount = pollard4(A, B, M)\n",
    "\n",
    "    t2 = time.time()\n",
    "    sptime[3].append((t2 - t1))\n",
    "    spoperation[3].append(opCount)\n",
    "    jj+=1\n",
    "\n",
    "print(sptime)\n",
    "print('Operations invoked:', opCount)\n",
    "\n"
   ]
  },
  {
   "cell_type": "code",
   "execution_count": 41,
   "id": "969a467b",
   "metadata": {},
   "outputs": [
    {
     "name": "stdout",
     "output_type": "stream",
     "text": [
      "[[0.00047278404235839844, 0.00013875961303710938, 0.00023603439331054688, 0.00020742416381835938, 0.000156402587890625, 0.00014591217041015625, 0.0009288787841796875, 0.0004868507385253906, 0.001817941665649414, 0.0019676685333251953, 0.004184246063232422, 0.0010733604431152344, 0.005812883377075195], [0.0018873214721679688, 0.0021872520446777344, 0.0001876354217529297, 0.0040280818939208984, 0.006245613098144531, 0.0051212310791015625, 0.10782837867736816, 0.005463600158691406, 0.5402181148529053, 0.06340742111206055, 0.03857421875, 0.03180074691772461, 8.101769924163818], [0.041144609451293945, 0.036924123764038086, 0.007257699966430664, 0.0033082962036132812, 0.1938633918762207, 0.025688886642456055, 0.20734262466430664, 0.09520745277404785, 7.331570863723755, 1.4127428531646729, 9.74161148071289, 26.005481719970703, 73.62638640403748], [0.034430742263793945, 0.027186870574951172, 0.01475834846496582, 0.07543253898620605, 0.4428105354309082, 0.10467791557312012, 1.4484870433807373, 0.06952643394470215, 7.890382766723633, 1.6811788082122803, 1.5792021751403809, 18.86026930809021, 121.63652014732361]]\n"
     ]
    }
   ],
   "source": [
    "print(sptime)"
   ]
  },
  {
   "cell_type": "code",
   "execution_count": 42,
   "id": "549ad635",
   "metadata": {},
   "outputs": [
    {
     "name": "stdout",
     "output_type": "stream",
     "text": [
      "[[30, 15, 48, 48, 27, 30, 213, 111, 414, 510, 1083, 180, 1323], [33, 93, 6, 192, 252, 222, 4869, 231, 24624, 2946, 1707, 1302, 348537], [108, 129, 27, 12, 648, 96, 765, 330, 24624, 4431, 31338, 88674, 254937], [108, 93, 51, 240, 1560, 354, 5052, 231, 24624, 5454, 5160, 64143, 393300]]\n"
     ]
    }
   ],
   "source": [
    "print(spoperation)"
   ]
  },
  {
   "cell_type": "code",
   "execution_count": 43,
   "id": "2788b47b",
   "metadata": {},
   "outputs": [],
   "source": [
    "import matplotlib.pyplot as plt"
   ]
  },
  {
   "cell_type": "code",
   "execution_count": 45,
   "id": "b78bcb97",
   "metadata": {},
   "outputs": [
    {
     "data": {
      "text/plain": [
       "<matplotlib.legend.Legend object at 0x7f372cbad250>"
      ]
     },
     "execution_count": 45,
     "metadata": {},
     "output_type": "execute_result"
    },
    {
     "data": {
      "image/png": "[encoded data removed]",
      "text/plain": [
       "<Figure size 432x288 with 1 Axes>"
      ]
     },
     "metadata": {
      "needs_background": "light"
     },
     "output_type": "display_data"
    }
   ],
   "source": [
    "plt.plot(sptime[0])\n",
    "plt.plot(sptime[1], \"--\")\n",
    "plt.plot(sptime[2], \"-.\")\n",
    "plt.plot(sptime[3], \":\")\n",
    "plt.legend(['Оригинальный алгоритм', 'Модифцированный алгоритм', 'Линейный алгоритм', 'Комбинированный алгоритм'])"
   ]
  },
  {
   "cell_type": "code",
   "execution_count": null,
   "id": "6ccfa5cd",
   "metadata": {},
   "outputs": [],
   "source": []
  }
 ],
 "metadata": {
  "kernelspec": {
   "display_name": "SageMath 9.5",
   "language": "sage",
   "name": "sagemath"
  },
  "language_info": {
   "codemirror_mode": {
    "name": "ipython",
    "version": 3
   },
   "file_extension": ".py",
   "mimetype": "text/x-python",
   "name": "python",
   "nbconvert_exporter": "python",
   "pygments_lexer": "ipython3",
   "version": "3.9.10"
  }
 },
 "nbformat": 4,
 "nbformat_minor": 5
}
