{
 "cells": [
  {
   "cell_type": "markdown",
   "metadata": {},
   "source": [
    "# Алгоритмы"
   ]
  },
  {
   "cell_type": "code",
   "execution_count": 1,
   "metadata": {},
   "outputs": [],
   "source": [
    "from gmpy2 import powmod\n",
    "import sys\n",
    "\n",
    "\n",
    "def algoritm_1(a, q):\n",
    "    \"\"\"q = 5 (mod 8)\"\"\"\n",
    "    b = powmod(2 * a, (q - 5) // 8, q)\n",
    "    i = (2 * a * (b ** 2)) % q\n",
    "    x = (a * b * (i - 1)) % q\n",
    "    return x\n",
    "\n",
    "\n",
    "def algoritm_2(a, q):\n",
    "    \"\"\"q = 9 (mod 16)\"\"\"\n",
    "    b = powmod(2 * a, (q - 1) // 4, q)\n",
    "    if b == q - 1:\n",
    "        b = -1\n",
    "\n",
    "    d = 0\n",
    "    for j_d in range(2, q):\n",
    "        if -b == kronecker(j_d, q):\n",
    "            d = j_d\n",
    "            break\n",
    "    if d == 0:\n",
    "        sys.exit(\"Can not find d\")\n",
    "\n",
    "    u = powmod(2 * a * (d ** 2), (q - 9) // 16, q)\n",
    "    i = (2 * (u ** 2) * (d ** 2) * a) % q\n",
    "    x = (u * d * a * (i - 1)) % q\n",
    "    return x\n",
    "\n",
    "\n",
    "def algoritm_3(a, q):\n",
    "    \"\"\"q = 9 (mod 16)\"\"\"\n",
    "    b = powmod(2 * a, (q - 9) // 16, q)\n",
    "    i = (2 * a * (b ** 2)) % q\n",
    "    r = (i ** 2) % q\n",
    "    if r == q - 1:\n",
    "        x = (a * b * (i - 1)) % q\n",
    "    else:\n",
    "        d = 0\n",
    "        for j_d in range(2, q):\n",
    "            if kronecker(j_d, q) == -1:\n",
    "                d = j_d\n",
    "                break\n",
    "        if d == 0:\n",
    "            sys.exit(\"Can not find d\")\n",
    "\n",
    "        u = b * powmod(d, (q - 9) // 8, q) % q\n",
    "        i = (2 * (u ** 2) * (d ** 2) * a) % q\n",
    "        x = (u * d * a * (i - 1)) % q\n",
    "    return x\n",
    "\n",
    "\n",
    "def algoritm_4(c, q, xi):\n",
    "    \"\"\"q = 5 (mod 8); s = 2\"\"\"\n",
    "    b = powmod(c, (q - 5) // 8, q)\n",
    "    zeta = (c * (b ** 2)) % q\n",
    "    if zeta == 1:\n",
    "        x = (c * b) % q\n",
    "    else:\n",
    "        x = (c * b * xi) % q\n",
    "    return x\n",
    "\n",
    "\n",
    "def algoritm_5(c, q, xi):\n",
    "    \"\"\"q = 9 (mod 16); s = 3\"\"\"\n",
    "    b = powmod(c, (q - 9) // 16, q)\n",
    "    zeta = (c * (b ** 2)) % q\n",
    "    if zeta == 1:\n",
    "        x = (c * b) % q\n",
    "    elif zeta == q - 1:\n",
    "        x = (c * b * (xi ** 2)) % q\n",
    "    elif zeta == (xi ** 2) % q:\n",
    "        x = (c * b * (xi ** 3)) % q\n",
    "    else:\n",
    "        x = (c * b * xi) % q\n",
    "    return x\n",
    "\n",
    "\n",
    "def algoritm_6(c, q, xi):\n",
    "    \"\"\"q = 17 (mod 32); s = 4\"\"\"\n",
    "    b = powmod(c, (q - 17) // 32, q)\n",
    "    X = (c * b) % q\n",
    "    zeta = (X * b) % q\n",
    "    A = xi\n",
    "    B = (A ** 2) % q\n",
    "    C = (B ** 2) % q\n",
    "    D = (B * C) % q\n",
    "\n",
    "    if zeta == 1:\n",
    "        x = X\n",
    "    elif zeta == q - 1:\n",
    "        x = (X * C) % q\n",
    "    elif zeta == B:\n",
    "        x = (X * A * D) % q\n",
    "    elif zeta == q - B:\n",
    "        x = (X * A * B) % q\n",
    "    elif zeta == C:\n",
    "        x = (X * D) % q\n",
    "    elif zeta == q - C:\n",
    "        x = (X * B) % q\n",
    "    elif zeta == D:\n",
    "        x = (X * A * C) % q\n",
    "    elif zeta == q - D:\n",
    "        x = (X * A) % q\n",
    "    else:\n",
    "        x = 0\n",
    "    return x\n",
    "\n",
    "\n",
    "def xi_value(q, s):\n",
    "    d = 0\n",
    "    for j_d in range(2, q):\n",
    "        if kronecker(j_d, q) == -1:\n",
    "            d = j_d\n",
    "            break\n",
    "    if d == 0:\n",
    "        sys.exit(\"Can not find d\")\n",
    "    xi = powmod(d, (q - 1) // (2 ** s), q)\n",
    "    return xi"
   ]
  },
  {
   "cell_type": "markdown",
   "metadata": {},
   "source": [
    "# Тесты"
   ]
  },
  {
   "cell_type": "code",
   "execution_count": 2,
   "metadata": {},
   "outputs": [],
   "source": [
    "def test_456(s, q, c, alg):\n",
    "    mod_s = 2 ** (s + 1)\n",
    "    print(q, '=', q % mod_s, 'mod', mod_s, '; Символ Лежандра (c/q) =', kronecker(c, q))\n",
    "    xi = xi_value(q, s)\n",
    "    x = alg(c, q, xi)\n",
    "    print('x =', x, '; x^2 =', x ** 2 % q, '; c =', c)\n",
    "    print('Проверка равенства:', x ** 2 % q == c)"
   ]
  },
  {
   "cell_type": "code",
   "execution_count": 3,
   "metadata": {},
   "outputs": [
    {
     "name": "stdout",
     "output_type": "stream",
     "text": [
      "50461 = 5 mod 8 ; Символ Лежандра (c/q) = 1\n",
      "x = 31367 ; x^2 = 111 ; c = 111\n",
      "Проверка равенства: True\n"
     ]
    }
   ],
   "source": [
    "test_456(2, 50461, 111, algoritm_4)"
   ]
  },
  {
   "cell_type": "code",
   "execution_count": 4,
   "metadata": {},
   "outputs": [
    {
     "name": "stdout",
     "output_type": "stream",
     "text": [
      "517613 = 5 mod 8 ; Символ Лежандра (c/q) = -1\n",
      "x = 385506 ; x^2 = 419541 ; c = 500000\n",
      "Проверка равенства: False\n"
     ]
    }
   ],
   "source": [
    "test_456(2, 517613, 500000, algoritm_4)"
   ]
  },
  {
   "cell_type": "code",
   "execution_count": 5,
   "metadata": {},
   "outputs": [
    {
     "name": "stdout",
     "output_type": "stream",
     "text": [
      "544793 = 9 mod 16 ; Символ Лежандра (c/q) = 1\n",
      "x = 418943 ; x^2 = 404 ; c = 404\n",
      "Проверка равенства: True\n"
     ]
    }
   ],
   "source": [
    "test_456(3, 544793, 404, algoritm_5)"
   ]
  },
  {
   "cell_type": "code",
   "execution_count": 6,
   "metadata": {},
   "outputs": [
    {
     "name": "stdout",
     "output_type": "stream",
     "text": [
      "160025 = 9 mod 16 ; Символ Лежандра (c/q) = 1\n",
      "x = 8778 ; x^2 = 81259 ; c = 17\n",
      "Проверка равенства: False\n"
     ]
    }
   ],
   "source": [
    "test_456(3, 160025, 17, algoritm_5)"
   ]
  },
  {
   "cell_type": "code",
   "execution_count": 7,
   "metadata": {},
   "outputs": [
    {
     "name": "stdout",
     "output_type": "stream",
     "text": [
      "50126833 = 17 mod 32 ; Символ Лежандра (c/q) = 1\n",
      "x = 1978118 ; x^2 = 111111 ; c = 111111\n",
      "Проверка равенства: True\n"
     ]
    }
   ],
   "source": [
    "test_456(4, 50126833, 111111, algoritm_6)"
   ]
  },
  {
   "cell_type": "code",
   "execution_count": 8,
   "metadata": {},
   "outputs": [
    {
     "name": "stdout",
     "output_type": "stream",
     "text": [
      "700139537 = 17 mod 32 ; Символ Лежандра (c/q) = -1\n",
      "x = 0 ; x^2 = 0 ; c = 111111\n",
      "Проверка равенства: False\n"
     ]
    }
   ],
   "source": [
    "test_456(4, 700139537, 111111, algoritm_6)"
   ]
  },
  {
   "cell_type": "code",
   "execution_count": 9,
   "metadata": {},
   "outputs": [],
   "source": [
    "def test_123(s, q, c, alg):\n",
    "    mod_s = 2 ** (s + 1)\n",
    "    print(q, '=', q % mod_s, 'mod', mod_s, '; Символ Лежандра (c/q) =', kronecker(c, q))\n",
    "    x = alg(c, q)\n",
    "    print('x =', x, '; x^2 =', x ** 2 % q, '; c =', c)\n",
    "    print('Проверка равенства:', x ** 2 % q == c)"
   ]
  },
  {
   "cell_type": "code",
   "execution_count": 10,
   "metadata": {},
   "outputs": [
    {
     "name": "stdout",
     "output_type": "stream",
     "text": [
      "10141 = 5 mod 8 ; Символ Лежандра (c/q) = 1\n",
      "x = 1895 ; x^2 = 1111 ; c = 1111\n",
      "Проверка равенства: True\n"
     ]
    }
   ],
   "source": [
    "test_123(2, 10141, 1111, algoritm_1)"
   ]
  },
  {
   "cell_type": "code",
   "execution_count": 11,
   "metadata": {},
   "outputs": [
    {
     "name": "stdout",
     "output_type": "stream",
     "text": [
      "1001093 = 5 mod 8 ; Символ Лежандра (c/q) = 1\n",
      "x = 147179 ; x^2 = 7707 ; c = 7707\n",
      "Проверка равенства: True\n"
     ]
    }
   ],
   "source": [
    "test_123(2, 1001093, 7707, algoritm_1)"
   ]
  },
  {
   "cell_type": "code",
   "execution_count": 12,
   "metadata": {},
   "outputs": [
    {
     "name": "stdout",
     "output_type": "stream",
     "text": [
      "305101 = 5 mod 8 ; Символ Лежандра (c/q) = -1\n",
      "x = 0 ; x^2 = 0 ; c = 666\n",
      "Проверка равенства: False\n"
     ]
    }
   ],
   "source": [
    "\"\"\"Тест с некорректным вводом\"\"\"\n",
    "test_123(2, 305101, 666, algoritm_1)"
   ]
  },
  {
   "cell_type": "code",
   "execution_count": 13,
   "metadata": {},
   "outputs": [
    {
     "name": "stdout",
     "output_type": "stream",
     "text": [
      "11801 = 9 mod 16 ; Символ Лежандра (c/q) = 1\n",
      "x = 2221 ; x^2 = 23 ; c = 23\n",
      "Проверка равенства: True\n"
     ]
    }
   ],
   "source": [
    "test_123(3, 11801, 23, algoritm_2)"
   ]
  },
  {
   "cell_type": "code",
   "execution_count": 14,
   "metadata": {},
   "outputs": [
    {
     "name": "stdout",
     "output_type": "stream",
     "text": [
      "1009433 = 9 mod 16 ; Символ Лежандра (c/q) = 1\n",
      "x = 747634 ; x^2 = 234567 ; c = 234567\n",
      "Проверка равенства: True\n"
     ]
    }
   ],
   "source": [
    "test_123(3, 1009433, 234567, algoritm_2)"
   ]
  },
  {
   "cell_type": "code",
   "execution_count": 15,
   "metadata": {},
   "outputs": [
    {
     "data": {
      "text/plain": [
       "'test_123(3, 300953, 666, algoritm_2)'"
      ]
     },
     "execution_count": 15,
     "metadata": {},
     "output_type": "execute_result"
    }
   ],
   "source": [
    "\"\"\"Тест с некорректным вводом\"\"\"\n",
    "\"\"\"test_123(3, 300953, 666, algoritm_2)\"\"\""
   ]
  },
  {
   "cell_type": "code",
   "execution_count": 16,
   "metadata": {},
   "outputs": [
    {
     "name": "stdout",
     "output_type": "stream",
     "text": [
      "11801 = 9 mod 16 ; Символ Лежандра (c/q) = 1\n",
      "x = 2221 ; x^2 = 23 ; c = 23\n",
      "Проверка равенства: True\n"
     ]
    }
   ],
   "source": [
    "test_123(3, 11801, 23, algoritm_3)"
   ]
  },
  {
   "cell_type": "code",
   "execution_count": 17,
   "metadata": {},
   "outputs": [
    {
     "name": "stdout",
     "output_type": "stream",
     "text": [
      "1009433 = 9 mod 16 ; Символ Лежандра (c/q) = 1\n",
      "x = 747634 ; x^2 = 234567 ; c = 234567\n",
      "Проверка равенства: True\n"
     ]
    }
   ],
   "source": [
    "test_123(3, 1009433, 234567, algoritm_3)"
   ]
  },
  {
   "cell_type": "code",
   "execution_count": 18,
   "metadata": {},
   "outputs": [
    {
     "name": "stdout",
     "output_type": "stream",
     "text": [
      "1625 = 9 mod 16 ; Символ Лежандра (c/q) = 1\n",
      "x = 438 ; x^2 = 94 ; c = 98\n",
      "Проверка равенства: False\n"
     ]
    }
   ],
   "source": [
    "\"\"\"Тест с некорректным вводом\"\"\"\n",
    "test_123(3, 1625, 98, algoritm_3)"
   ]
  },
  {
   "cell_type": "markdown",
   "metadata": {},
   "source": [
    "# Получение q, c, xi "
   ]
  },
  {
   "cell_type": "code",
   "execution_count": 19,
   "metadata": {},
   "outputs": [],
   "source": [
    "from sympy import randprime\n",
    "from random import randint\n",
    "num_1 = 2 ** 64 - 2 ** 30\n",
    "num_2 = 2 ** 64\n",
    "\n",
    "\"\"\"q = 5 (mod 8); s = 2\"\"\"\n",
    "lst_q_c_xi_8 = []\n",
    "while len(lst_q_c_xi_8) < 9999:\n",
    "    q = Integer(randprime(num_1, num_2))\n",
    "    if q % 8 == 5:\n",
    "        c = randint(2, q)\n",
    "        while kronecker(c, q) != 1:\n",
    "            c = randint(2, q)\n",
    "        lst_q_c_xi_8.append([q, c, xi_value(q, 2)])\n",
    "\n",
    "\"\"\"q = 9 (mod 16); s = 3\"\"\"\n",
    "lst_q_c_xi_16 = []\n",
    "while len(lst_q_c_xi_16) < 9999:\n",
    "    q = Integer(randprime(num_1, num_2))\n",
    "    if q % 16 == 9:\n",
    "        c = randint(2, q)\n",
    "        while kronecker(c, q) != 1:\n",
    "            c = randint(2, q)\n",
    "        lst_q_c_xi_16.append([q, c, xi_value(q, 3)])\n",
    "\n",
    "\"\"\"q = 17 (mod 32); s = 4\"\"\"\n",
    "lst_q_c_xi_32 = []\n",
    "while len(lst_q_c_xi_32) < 9999:\n",
    "    q = Integer(randprime(num_1, num_2))\n",
    "    if q % 32 == 17:\n",
    "        c = randint(2, q)\n",
    "        while kronecker(c, q) != 1:\n",
    "            c = randint(2, q)\n",
    "        lst_q_c_xi_32.append([q, c, xi_value(q, 4)])"
   ]
  },
  {
   "cell_type": "markdown",
   "metadata": {},
   "source": [
    "# Вычисление среднего времени для всех алгоритмов"
   ]
  },
  {
   "cell_type": "code",
   "execution_count": 20,
   "metadata": {},
   "outputs": [
    {
     "name": "stdout",
     "output_type": "stream",
     "text": [
      "9.296095359126436e-05\n"
     ]
    }
   ],
   "source": [
    "from time import perf_counter\n",
    "\n",
    "\"\"\"Алгоритм 1 (Аткин); q = 5 (mod 8); s = 2\"\"\"\n",
    "lst_time_1 = []\n",
    "for lst in lst_q_c_xi_8:\n",
    "    q = lst[0] + 0\n",
    "    c = lst[1] + 0\n",
    "    \n",
    "    t1 = perf_counter()\n",
    "    algoritm_1(c, q)\n",
    "    t2 = perf_counter()\n",
    "    lst_time_1.append(t2 - t1)\n",
    "\n",
    "\n",
    "average_time_1 = sum(lst_time_1) / len(lst_time_1)\n",
    "print(average_time_1)"
   ]
  },
  {
   "cell_type": "code",
   "execution_count": 29,
   "metadata": {},
   "outputs": [
    {
     "name": "stdout",
     "output_type": "stream",
     "text": [
      "0.00024642775038000305\n"
     ]
    }
   ],
   "source": [
    "\"\"\"Алгоритм 2 (Мюллер); q = 9 (mod 16); s = 3\"\"\"\n",
    "lst_time_2 = []\n",
    "for lst in lst_q_c_xi_16:\n",
    "    q = lst[0] + 0\n",
    "    c = lst[1] + 0\n",
    "    \n",
    "    t1 = perf_counter()\n",
    "    algoritm_2(c, q)\n",
    "    t2 = perf_counter()\n",
    "    lst_time_2.append(t2 - t1)\n",
    "\n",
    "\n",
    "average_time_2 = sum(lst_time_2) / len(lst_time_2)\n",
    "print(average_time_2)"
   ]
  },
  {
   "cell_type": "code",
   "execution_count": 45,
   "metadata": {},
   "outputs": [
    {
     "name": "stdout",
     "output_type": "stream",
     "text": [
      "0.00018202831353094658\n"
     ]
    }
   ],
   "source": [
    "\"\"\"Алгоритм 3 (Конг); q = 9 (mod 16); s = 3\"\"\"\n",
    "lst_time_3 = []\n",
    "for lst in lst_q_c_xi_16:\n",
    "    q = lst[0] + 0\n",
    "    c = lst[1] + 0\n",
    "    \n",
    "    t1 = perf_counter()\n",
    "    algoritm_3(c, q)\n",
    "    t2 = perf_counter()\n",
    "    lst_time_3.append(t2 - t1)\n",
    "\n",
    "\n",
    "average_time_3 = sum(lst_time_3) / len(lst_time_3)\n",
    "print(average_time_3)"
   ]
  },
  {
   "cell_type": "code",
   "execution_count": 60,
   "metadata": {},
   "outputs": [
    {
     "name": "stdout",
     "output_type": "stream",
     "text": [
      "9.454978287046013e-05\n"
     ]
    }
   ],
   "source": [
    "\"\"\"Алгоритм 4 ; q = 5 (mod 8); s = 2\"\"\"\n",
    "lst_time_4 = []\n",
    "for lst in lst_q_c_xi_8:\n",
    "    q = lst[0] + 0\n",
    "    c = lst[1] + 0\n",
    "    xi = lst[2] + 0\n",
    "    \n",
    "    t1 = perf_counter()\n",
    "    algoritm_4(c, q, xi)\n",
    "    t2 = perf_counter()\n",
    "    lst_time_4.append(t2 - t1)\n",
    "\n",
    "\n",
    "average_time_4 = sum(lst_time_4) / len(lst_time_4)\n",
    "print(average_time_4)"
   ]
  },
  {
   "cell_type": "code",
   "execution_count": 50,
   "metadata": {},
   "outputs": [
    {
     "name": "stdout",
     "output_type": "stream",
     "text": [
      "0.00013869490229733756\n"
     ]
    }
   ],
   "source": [
    "\"\"\"Алгоритм 5 ; q = 9 (mod 16); s = 3\"\"\"\n",
    "lst_time_5 = []\n",
    "for lst in lst_q_c_xi_8:\n",
    "    q = lst[0] + 0\n",
    "    c = lst[1] + 0\n",
    "    xi = lst[2] + 0\n",
    "    \n",
    "    t1 = perf_counter()\n",
    "    algoritm_5(c, q, xi)\n",
    "    t2 = perf_counter()\n",
    "    lst_time_5.append(t2 - t1)\n",
    "\n",
    "\n",
    "average_time_5 = sum(lst_time_5) / len(lst_time_5)\n",
    "print(average_time_5)"
   ]
  },
  {
   "cell_type": "code",
   "execution_count": 67,
   "metadata": {},
   "outputs": [
    {
     "name": "stdout",
     "output_type": "stream",
     "text": [
      "0.0002212392190158269\n"
     ]
    }
   ],
   "source": [
    "\"\"\"Алгоритм 6 ; q = 17 (mod 32); s = 4\"\"\"\n",
    "lst_time_6 = []\n",
    "for lst in lst_q_c_xi_8:\n",
    "    q = lst[0] + 0\n",
    "    c = lst[1] + 0\n",
    "    xi = lst[2] + 0\n",
    "    \n",
    "    t1 = perf_counter()\n",
    "    algoritm_6(c, q, xi)\n",
    "    t2 = perf_counter()\n",
    "    lst_time_6.append(t2 - t1)\n",
    "\n",
    "\n",
    "average_time_6 = sum(lst_time_6) / len(lst_time_6)\n",
    "print(average_time_6)"
   ]
  },
  {
   "cell_type": "markdown",
   "metadata": {},
   "source": [
    "# Графики"
   ]
  },
  {
   "cell_type": "code",
   "execution_count": 68,
   "metadata": {},
   "outputs": [
    {
     "data": {
      "image/png": "[encoded data removed]",
      "text/plain": [
       "<Figure size 1800x1200 with 1 Axes>"
      ]
     },
     "metadata": {
      "needs_background": "light"
     },
     "output_type": "display_data"
    }
   ],
   "source": [
    "import matplotlib.pyplot as plt\n",
    "\n",
    "fig = plt.figure()\n",
    "ax = fig.add_axes([0,0,1,1])\n",
    "\n",
    "langs = [f\"Алгоритм {i}\" for i in range(1,7)]\n",
    "averages = [average_time_1, average_time_2, average_time_3, average_time_4, average_time_5, average_time_6]\n",
    "barlist = ax.bar(langs, averages, 0.5)\n",
    "barlist[0].set_color((0.3, 0.3, 0.7))\n",
    "barlist[1].set_color((0.6, 0.2, 0.5))\n",
    "barlist[2].set_color((0.8, 0.4, 0.6))\n",
    "barlist[3].set_color((0.5, 0.5, 0.9))\n",
    "barlist[4].set_color((1.0, 0.6, 0.8))\n",
    "barlist[5].set_color((0.5, 0.8, 0.8))\n",
    "plt.gcf().set_dpi(300)\n",
    "plt.show()"
   ]
  },
  {
   "cell_type": "code",
   "execution_count": 69,
   "metadata": {},
   "outputs": [
    {
     "data": {
      "image/png": "[encoded data removed]",
      "text/plain": [
       "<Figure size 1800x1200 with 1 Axes>"
      ]
     },
     "metadata": {
      "needs_background": "light"
     },
     "output_type": "display_data"
    }
   ],
   "source": [
    "fig = plt.figure()\n",
    "ax = fig.add_axes([0,0,1,1])\n",
    "\n",
    "langs = [\"Алгоритм 1\", \"Алгоритм 4\"]\n",
    "averages = [average_time_1, average_time_4]\n",
    "barlist = ax.bar(langs, averages, 0.5)\n",
    "barlist[0].set_color((0.3, 0.3, 0.7))\n",
    "barlist[1].set_color((0.5, 0.5, 0.9))\n",
    "plt.gcf().set_dpi(300)\n",
    "plt.show()"
   ]
  },
  {
   "cell_type": "code",
   "execution_count": 70,
   "metadata": {},
   "outputs": [
    {
     "data": {
      "image/png": "[encoded data removed]",
      "text/plain": [
       "<Figure size 1800x1200 with 1 Axes>"
      ]
     },
     "metadata": {
      "needs_background": "light"
     },
     "output_type": "display_data"
    }
   ],
   "source": [
    "fig = plt.figure()\n",
    "ax = fig.add_axes([0,0,1,1])\n",
    "\n",
    "langs = [\"Алгоритм 2\", \"Алгоритм 3\", \"Алгоритм 5\"]\n",
    "averages = [average_time_2, average_time_3, average_time_5]\n",
    "barlist = ax.bar(langs, averages, 0.5)\n",
    "barlist[0].set_color((0.6, 0.2, 0.5))\n",
    "barlist[1].set_color((0.8, 0.4, 0.6))\n",
    "barlist[2].set_color((1.0, 0.6, 0.8))\n",
    "plt.gcf().set_dpi(300)\n",
    "plt.show()"
   ]
  }
 ],
 "metadata": {
  "kernelspec": {
   "display_name": "SageMath 9.0",
   "language": "sage",
   "name": "sagemath"
  },
  "language_info": {
   "codemirror_mode": {
    "name": "ipython",
    "version": 3
   },
   "file_extension": ".py",
   "mimetype": "text/x-python",
   "name": "python",
   "nbconvert_exporter": "python",
   "pygments_lexer": "ipython3",
   "version": "3.8.10"
  },
  "orig_nbformat": 4
 },
 "nbformat": 4,
 "nbformat_minor": 2
}
