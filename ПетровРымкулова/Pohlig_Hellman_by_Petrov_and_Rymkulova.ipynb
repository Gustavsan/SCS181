{
 "cells": [
  {
   "cell_type": "code",
   "execution_count": 11,
   "metadata": {},
   "outputs": [],
   "source": [
    "from sage.all import *\n",
    "import random\n",
    "import time"
   ]
  },
  {
   "cell_type": "code",
   "execution_count": 12,
   "metadata": {},
   "outputs": [],
   "source": [
    "def simple_case_alg(a, y, p, factor_list):\n",
    "    if len(factor_list) != 1 and factor_list[0][0] !=2:\n",
    "        raise Exception('Wrong value of argument factor_list')\n",
    "    log_p = factor_list[0][1]\n",
    "    z_i = y\n",
    "    B_i = Mod(a ^ (-1), p) \n",
    "    m_i = (p-1)/2\n",
    "    base = 1\n",
    "    x = 0\n",
    "    for i in range(0, log_p):\n",
    "\n",
    "        q = Mod(z_i ^ m_i, p)\n",
    "        if q == -1: \n",
    "            x += base\n",
    "            z_i = Mod(z_i * B_i, p)\n",
    "        elif q != 1:\n",
    "            raise Exception('Wrong value of q (not 1 and not -1). Found: %s', str(q))\n",
    "        base *= 2\n",
    "        m_i /= 2\n",
    "        B_i = Mod(B_i ^ 2, p)\n",
    "    return x"
   ]
  },
  {
   "cell_type": "code",
   "execution_count": 13,
   "metadata": {},
   "outputs": [],
   "source": [
    "def get_r_ij(a, j, q, p):\n",
    "    return Mod(a ^ (((p-1)/q)*j), p)\n",
    "\n",
    "def get_r_ij_dict(a, p, factor_list):\n",
    "    r = dict()\n",
    "    for i in range(len(factor_list)):\n",
    "        factor = factor_list[i]\n",
    "        q = factor[0]\n",
    "        r[q] = []\n",
    "        for j in range(0, q):\n",
    "            r_ij = get_r_ij(a, j, q, p)\n",
    "            r[factor[0]].append(r_ij)\n",
    "    return r\n",
    "\n",
    "def common_case_alg(a, b, p, factor_list):\n",
    "    r = get_r_ij_dict(a, p, factor_list)\n",
    "\n",
    "    x = []\n",
    "    q_x = []\n",
    "    for i in range(len(factor_list)):\n",
    "        factor = factor_list[i]\n",
    "        q = factor[0]\n",
    "        q_a = q\n",
    "        base_additional = 1\n",
    "        x_i = 0\n",
    "        for j in range(0, factor[1]):\n",
    "            result = Mod(Mod(b * base_additional, p) ^ ((p-1)/q_a), p)\n",
    "            for k in range(0, len(r[q])):\n",
    "                if r[q][k] == result:\n",
    "                    pre_calc = Mod(a^((-1) * k * q^j), p)\n",
    "                    base_additional = Mod(base_additional * pre_calc, p)\n",
    "                    x_i = Mod(x_i + k * q^j, p)\n",
    "                    break\n",
    "            q_a *= q\n",
    "        x.append(sage.rings.integer.Integer(x_i))\n",
    "        q_x.append(q^factor[1])\n",
    "    return CRT_list(x, q_x)"
   ]
  },
  {
   "cell_type": "code",
   "execution_count": 14,
   "metadata": {},
   "outputs": [
    {
     "data": {
      "text/plain": [
       "3"
      ]
     },
     "execution_count": 14,
     "metadata": {},
     "output_type": "execute_result"
    }
   ],
   "source": [
    "p = 5\n",
    "simple_case_alg(2, 3, p, list(factor(p-1)))"
   ]
  },
  {
   "cell_type": "code",
   "execution_count": 15,
   "metadata": {},
   "outputs": [
    {
     "data": {
      "text/plain": [
       "5"
      ]
     },
     "execution_count": 15,
     "metadata": {},
     "output_type": "execute_result"
    }
   ],
   "source": [
    "p = 7\n",
    "common_case_alg(3, 5, p, list(factor(p-1)))"
   ]
  },
  {
   "cell_type": "code",
   "execution_count": 16,
   "metadata": {},
   "outputs": [],
   "source": [
    "def check_alg(alg, sample, factorization):\n",
    "    return alg(sample[0], sample[2], sample[3], factorization)\n",
    "\n",
    "def check_answer(sample, result):\n",
    "    #      result == x         or     a^result mod p == b\n",
    "    return int(result) == int(sample[1]) or int(Mod(sample[0]^result, sample[3])) == int(sample[2])"
   ]
  },
  {
   "cell_type": "code",
   "execution_count": 17,
   "metadata": {},
   "outputs": [],
   "source": [
    "def generate_samples(list_p, count):\n",
    "    samples = []\n",
    "    for p in list_p:\n",
    "        a = GF(p, modulus=\"primitive\").gen()\n",
    "        for i in range(count):\n",
    "            x = randint(2, p-2)\n",
    "            b = int(Mod(a^x, p))\n",
    "            samples.append((a, x, b, p))\n",
    "    return samples"
   ]
  },
  {
   "cell_type": "code",
   "execution_count": 18,
   "metadata": {},
   "outputs": [],
   "source": [
    "def run_timetest(samples, first_alg, second_alg):\n",
    "    f_count = 0\n",
    "    f_sum = 0\n",
    "    s_count = 0\n",
    "    s_sum = 0\n",
    "    for sample in samples:\n",
    "        factorization=list(factor(sample[3]-1))\n",
    "        # first algorithm\n",
    "        start_time_first = time.time()\n",
    "        result = check_alg(first_alg, sample, factorization)\n",
    "        end_time_first = time.time()\n",
    "        # check answer\n",
    "        if not check_answer(sample, result):\n",
    "            print(\"first have ERROR\", sample, result)\n",
    "        else:\n",
    "            f_count +=1 \n",
    "            f_sum += (end_time_first - start_time_first)\n",
    "            \n",
    "        # second algorithm\n",
    "        start_time_second = time.time()\n",
    "        result = check_alg(second_alg, sample, factorization)\n",
    "        end_time_second = time.time()\n",
    "        # check answer\n",
    "        if not check_answer(sample, result):\n",
    "            print(\"second have ERROR\", sample, result)\n",
    "        else:\n",
    "            s_count +=1 \n",
    "            s_sum += (end_time_second - start_time_second)\n",
    "    # report\n",
    "    report_template = \"Algorithm: %s.\\n Count: %d. All time: %f. Avg time: %f\"\n",
    "    print(report_template % (first_alg.__name__ , f_count, f_sum, (f_sum/f_count)))\n",
    "    print(report_template % (second_alg.__name__ , s_count, s_sum, (s_sum/s_count)))"
   ]
  },
  {
   "cell_type": "code",
   "execution_count": 19,
   "metadata": {},
   "outputs": [
    {
     "name": "stdout",
     "output_type": "stream",
     "text": [
      "Algorithm: simple_case_alg.\n",
      " Count: 10000. All time: 15.096338. Avg time: 0.001510\n",
      "Algorithm: common_case_alg.\n",
      " Count: 10000. All time: 4.947343. Avg time: 0.000495\n"
     ]
    }
   ],
   "source": [
    "samples = generate_samples([65537],10000)\n",
    "run_timetest(samples, simple_case_alg, common_case_alg)"
   ]
  },
  {
   "cell_type": "code",
   "execution_count": 20,
   "metadata": {},
   "outputs": [
    {
     "name": "stdout",
     "output_type": "stream",
     "text": [
      "Algorithm: simple_case_alg.\n",
      " Count: 100000. All time: 156.551219. Avg time: 0.001566\n",
      "Algorithm: common_case_alg.\n",
      " Count: 100000. All time: 52.007991. Avg time: 0.000520\n"
     ]
    }
   ],
   "source": [
    "samples = generate_samples([65537],100000)\n",
    "run_timetest(samples, simple_case_alg, common_case_alg)"
   ]
  },
  {
   "cell_type": "code",
   "execution_count": 21,
   "metadata": {},
   "outputs": [],
   "source": [
    "def dummy_alg(a, b, p, factor_list):\n",
    "    result = 1\n",
    "    degree = 0\n",
    "    while degree < p:\n",
    "        if result == b:\n",
    "            return degree\n",
    "        result = int(Mod(result*a, p))\n",
    "        degree += 1\n",
    "    raise Exception(\"Not found result for %d^x = %d (mod %d)\" % (a, b, p))"
   ]
  },
  {
   "cell_type": "code",
   "execution_count": 22,
   "metadata": {},
   "outputs": [],
   "source": [
    "def generate_list_of_p(p_min, p_max, count):\n",
    "    p = []\n",
    "    i = 0\n",
    "    fail = 0\n",
    "    while i < count:\n",
    "        random_p = randint(p_min, p_max)\n",
    "        next_p = next_prime(random_p)\n",
    "        if next_p <= p_max:\n",
    "            p.append(next_p)\n",
    "            i += 1\n",
    "        else:\n",
    "            fail += 1\n",
    "        if fail > count and len(p) == 0:\n",
    "            raise Exception(\"Bad attempt to generate p\")\n",
    "    return p"
   ]
  },
  {
   "cell_type": "code",
   "execution_count": 23,
   "metadata": {},
   "outputs": [
    {
     "name": "stdout",
     "output_type": "stream",
     "text": [
      "Algorithm: common_case_alg.\n",
      " Count: 1000. All time: 2.446571. Avg time: 0.002447\n",
      "Algorithm: dummy_alg.\n",
      " Count: 1000. All time: 12.379791. Avg time: 0.012380\n"
     ]
    }
   ],
   "source": [
    "list_p = generate_list_of_p(10^2, 10^4, 10)\n",
    "samples = generate_samples(list_p, 100)\n",
    "run_timetest(samples, common_case_alg, dummy_alg)"
   ]
  },
  {
   "cell_type": "code",
   "execution_count": 24,
   "metadata": {},
   "outputs": [],
   "source": [
    "# too slow... around 1100 sec\n",
    "#list_p = generate_list_of_p(10^4, 10^6, 10)\n",
    "#samples = generate_samples(list_p,100)\n",
    "#run_timetest(samples, common_case_alg, dummy_alg)"
   ]
  },
  {
   "cell_type": "code",
   "execution_count": null,
   "metadata": {},
   "outputs": [],
   "source": []
  }
 ],
 "metadata": {
  "kernelspec": {
   "display_name": "SageMath 8.1",
   "language": "",
   "name": "sagemath"
  },
  "language": "python",
  "language_info": {
   "codemirror_mode": {
    "name": "ipython",
    "version": 2
   },
   "file_extension": ".py",
   "mimetype": "text/x-python",
   "name": "python",
   "nbconvert_exporter": "python",
   "pygments_lexer": "ipython2",
   "version": "2.7.17"
  }
 },
 "nbformat": 4,
 "nbformat_minor": 2
}
