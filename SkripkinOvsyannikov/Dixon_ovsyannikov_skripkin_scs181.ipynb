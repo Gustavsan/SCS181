{
 "cells": [
  {
   "cell_type": "code",
   "execution_count": 30,
   "metadata": {
    "collapsed": false
   },
   "outputs": [
   ],
   "source": [
    "def Dixon(n, B):\n",
    "    prime_base = list(primes(1, B))\n",
    "    prime_base_size = len(prime_base)\n",
    "    X = []\n",
    "    Q_x_exponents = []\n",
    "    V = []\n",
    "    x_i = int(sqrt(n)) + 1\n",
    "\n",
    "    while x_i <= n:\n",
    "        while True:\n",
    "            vect = [0] * prime_base_size\n",
    "            Q_x_i = (x_i * x_i) % n\n",
    "            Q_x_i_exponents = [0] * prime_base_size\n",
    "            for j in range(0, prime_base_size):\n",
    "                p_j = prime_base[j]\n",
    "                while Q_x_i % p_j == 0:\n",
    "                    Q_x_i = Q_x_i // p_j\n",
    "                    vect[j] = (vect[j] + 1) % 2\n",
    "                    Q_x_i_exponents[j] = Q_x_i_exponents[j] + 1\n",
    "                if Q_x_i == 1:\n",
    "                    X.append(x_i)\n",
    "                    V.append(vect)\n",
    "                    Q_x_exponents.append(Q_x_i_exponents)\n",
    "                    break\n",
    "            if len(X) >= prime_base_size:\n",
    "                break\n",
    "            x_i = x_i + 1\n",
    "        A = matrix(Zmod(2), V)\n",
    "        K = A.kernel()\n",
    "        K_size = len(K)\n",
    "        for j in range(1, K_size):\n",
    "            x = 1\n",
    "            y = 1\n",
    "            K_vect = K[j]\n",
    "            y_exponent_vect = [0] * prime_base_size\n",
    "            for k in range(0, len(X)):\n",
    "                if K_vect[k] == 1:\n",
    "                    x_factor = X[k]\n",
    "                    #print(prime_base_size)\n",
    "                    #print(y_exponent_vect[1])\n",
    "                    #print(Q_x_exponents[1])\n",
    "                    for l in range(0,prime_base_size):\n",
    "                        y_exponent_vect[l] = (y_exponent_vect[l] + Q_x_exponents[k][l])\n",
    "                    x = (x * x_factor) % n\n",
    "            for l in range(0, prime_base_size):\n",
    "                y = (y * pow(prime_base[l], y_exponent_vect[l] // 2)) % n\n",
    "        if x != y and x != n - y:\n",
    "            print(x, y, y_exponent_vect)\n",
    "            d_1 = gcd(x + y, n)\n",
    "            d_2 = n // d_1\n",
    "            print(d_1, d_2)\n",
    "            return (d_1, d_2)\n",
    "        x_i += 1\n",
    "\n",
    "    return None\n"
   ]
  },
  {
   "cell_type": "code",
   "execution_count": 31,
   "metadata": {
    "collapsed": false,
    "scrolled": true
   },
   "outputs": [
    {
     "name": "stdout",
     "output_type": "stream",
     "text": [
      "182428 383248 [18, 10, 12, 2]\n",
      "412 3347\n",
      "1.5076491832733154\n"
     ]
    }
   ],
   "source": [
    "import time\n",
    "\n",
    "def check_time(func, n):\n",
    "    start_time = time.time()\n",
    "    Dixon(func, n)\n",
    "    end_time = time.time()\n",
    "    return end_time - start_time\n",
    "\n",
    "\n",
    "ss = check_time(1378964, 10)\n",
    "print(ss)\n",
    "\n"
   ]
  },
  {
   "cell_type": "code",
   "execution_count": 0,
   "metadata": {
    "collapsed": false
   },
   "outputs": [
   ],
   "source": [
   ]
  }
 ],
 "metadata": {
  "kernelspec": {
   "display_name": "SageMath 9.6",
   "language": "sagemath",
   "metadata": {
    "cocalc": {
     "description": "Open-source mathematical software system",
     "priority": 10,
     "url": "https://www.sagemath.org/"
    }
   },
   "name": "sage-9.6",
   "resource_dir": "/ext/jupyter/kernels/sage-9.6"
  },
  "language_info": {
   "codemirror_mode": {
    "name": "ipython",
    "version": 3
   },
   "file_extension": ".py",
   "mimetype": "text/x-python",
   "name": "python",
   "nbconvert_exporter": "python",
   "pygments_lexer": "ipython3",
   "version": "3.10.3"
  }
 },
 "nbformat": 4,
 "nbformat_minor": 4
}
