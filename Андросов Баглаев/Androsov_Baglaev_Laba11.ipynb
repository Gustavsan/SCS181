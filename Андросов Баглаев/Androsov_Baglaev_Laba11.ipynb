{
 "cells": [
  {
   "cell_type": "code",
   "execution_count": 1,
   "metadata": {},
   "outputs": [],
   "source": [
    "proth1 = 9857\n",
    "proth2 = 4481\n",
    "proth3 = 2689"
   ]
  },
  {
   "cell_type": "code",
   "execution_count": 2,
   "metadata": {},
   "outputs": [
    {
     "name": "stdout",
     "output_type": "stream",
     "text": [
      "113\n",
      "128\n",
      "TRY\n",
      "0\n",
      "2\n"
     ]
    }
   ],
   "source": [
    "\"Algorithm 2.2\"\n",
    "import random\n",
    "import math\n",
    "#e = random.randrange(1,1000,1)\n",
    "#t = random.randrange(1,1000,2) + 1\n",
    "#N = 2^e*t + 1\n",
    "t = 7\n",
    "e = 4\n",
    "N = 113\n",
    "print(N)\n",
    "bj = []\n",
    "bi = []\n",
    "i0 = []\n",
    "i1 = []\n",
    "k0 = []\n",
    "a2 = []\n",
    "res1 = 0\n",
    "counter1 = 0\n",
    "cum11 = \"a\"\n",
    "\n",
    "for j in range(1,2*t + 2):\n",
    "    b = pow(j,2*t,N)\n",
    "    if pow(b,1,N) != 1:\n",
    "        for k in range(0,e-1):\n",
    "            bb = pow(b,2**k,N)\n",
    "            if bb == N-1:\n",
    "                res1 = pow(j,(2**k)*t)\n",
    "                print(res1)\n",
    "                break\n",
    "        break\n",
    "    else:\n",
    "        counter1 += 1\n",
    "if counter1 == 2*t + 1:\n",
    "    cum11 = \"N - composite\"\n",
    "if pow(res1,2,N) == N - 1:\n",
    "    print(\"TRY\")\n",
    "print(k)\n",
    "print(j)\n",
    "            "
   ]
  },
  {
   "cell_type": "code",
   "execution_count": 3,
   "metadata": {},
   "outputs": [],
   "source": [
    "def Gproductpow(a,N,B,t):\n",
    "    if t == 0:\n",
    "        return 1\n",
    "    elif t == 1:\n",
    "        return a\n",
    "    elif pow(a,2,N) == B:\n",
    "        return False\n",
    "    else:\n",
    "        if pow(a+a,1,N) == 0:\n",
    "            return float(\"inf\")\n",
    "        elif math.gcd(a+a,N) != 1:\n",
    "            return print(\"N - composite\")\n",
    "        elif math.gcd(a+a,N) == 1:\n",
    "            for i in range (0,1001):\n",
    "                ab = (pow((a*a + B)*(pow(a+a,-1,N)),1,N) + N*i)\n",
    "                if pow(ab,2,N) == B:\n",
    "                      return print(\"N - composite\")\n",
    "                elif t - 1 == 1:\n",
    "                    return ab \n",
    "                else: \n",
    "                    return Gproduct(ab,a,N,B,t-1)\n",
    "                \n",
    "def Gproduct(a,b,N,B,k):\n",
    "    if pow(a,2,N) == B and pow(b,2,N) == B:\n",
    "        return False\n",
    "    elif k == 0:\n",
    "        return 1\n",
    "    elif k == 1 and a == b:\n",
    "        return a\n",
    "    elif k > 1 and a == b:\n",
    "        k -= 1\n",
    "        if pow(a + b,1,N) == 0:\n",
    "            return float(\"inf\")\n",
    "        elif math.gcd(a + b,N) != 1:\n",
    "            return print(\"N - composite\")\n",
    "        elif math.gcd(a + b ,N) == 1:\n",
    "            for i in range (0,1001):\n",
    "                ab = (pow((a*b + B)*(pow(a+b,-1,N)),1,N) + N*i)\n",
    "                if pow(ab,2,N) == B:\n",
    "                      return print(\"N - composite\")\n",
    "                elif k == 1:\n",
    "                    return ab\n",
    "                else:\n",
    "                    return Gproduct(ab,b,N,B,k-1)\n",
    "    else:\n",
    "        if pow(a + b,1,N) == 0:\n",
    "            return float(\"inf\")\n",
    "        elif math.gcd(a + b,N) != 1:\n",
    "            return print(\"N - composite\")\n",
    "        elif math.gcd(a + b ,N) == 1:\n",
    "            for i in range (0,1001):\n",
    "                ab = (pow((a*b + B)*(pow(a+b,-1,N)),1,N) + N*i)\n",
    "                if pow(ab,2,N) == B:\n",
    "                      return print(\"N - composite\")\n",
    "                elif k == 1:\n",
    "                    return ab\n",
    "                else:\n",
    "                    return Gproduct(ab,b,N,B,k-1)\n"
   ]
  },
  {
   "cell_type": "code",
   "execution_count": 4,
   "metadata": {},
   "outputs": [
    {
     "name": "stdout",
     "output_type": "stream",
     "text": [
      "128\n",
      "4 7 128 31 113\n",
      "0\n",
      "A\n",
      "b\n",
      "0\n",
      "67\n",
      "A2\n",
      "ura\n",
      "101\n",
      "AL 101\n"
     ]
    }
   ],
   "source": [
    "\"Algorithm 3.4\"\n",
    "import math\n",
    "b = res1\n",
    "cj = 0\n",
    "cjk = 0\n",
    "a = 0\n",
    "alpha = 0\n",
    "CJ = []\n",
    "CJK = []\n",
    "print(b)\n",
    "beta = 31\n",
    "cum1 = 0\n",
    "cum2 = 0\n",
    "cum3 = 0\n",
    "print(e,t,b,beta,N)\n",
    "for j in range(1,2*t+2):\n",
    "    if pow(j,2,N) == beta: #easy check\n",
    "        alpha = j\n",
    "        print(alpha)\n",
    "        print(\"A1\")\n",
    "    else: # Find [a]\n",
    "        cj = Gproduct(j,j,N,beta,2*t)\n",
    "        CJ.append(cj)\n",
    "        print(cj)\n",
    "        if cj != float(\"inf\"):\n",
    "            print(\"A\")\n",
    "            for k in range(0,e-1):\n",
    "                cjk = Gproduct(cj,cj,N,beta,2**k)\n",
    "                print(\"b\")\n",
    "                CJK.append(cjk)\n",
    "                print(cjk)\n",
    "                if pow(cjk,1,N) == 0:\n",
    "                    a = Gproduct(j,j,N,beta,t*(2**k))\n",
    "                    print(a)\n",
    "                    print(\"A2\")\n",
    "                    for i in range(0,1000): # II.3\n",
    "                        alpha = pow(a*b,1,N) + N*i\n",
    "                        if pow(alpha,2,N) == beta:\n",
    "                            print(\"ura\")\n",
    "                            print(alpha)\n",
    "                            break\n",
    "                    else:\n",
    "                        cum3 += 1\n",
    "                    break\n",
    "            else:\n",
    "                cum2 += 1\n",
    "            break\n",
    "else:\n",
    "    cum1 += 1\n",
    "    \n",
    "if cum1 == 2*t + 1:\n",
    "    print(\"N - composite\")\n",
    "elif cum2 == e - 1:\n",
    "    print(\"N - composite\")\n",
    "elif cum3 == 1000:\n",
    "    print(\"N - composite\")\n",
    "            \n",
    "                \n",
    "print(\"AL\",alpha)      "
   ]
  },
  {
   "cell_type": "code",
   "execution_count": 5,
   "metadata": {},
   "outputs": [
    {
     "name": "stdout",
     "output_type": "stream",
     "text": [
      "128\n",
      "4 7 128 31 113\n",
      "0\n",
      "A\n",
      "b\n",
      "0\n",
      "67\n",
      "A2\n",
      "ura\n",
      "101\n"
     ]
    },
    {
     "ename": "SystemExit",
     "evalue": "",
     "output_type": "error",
     "traceback": [
      "An exception has occurred, use %tb to see the full traceback.\n",
      "\u001b[1;31mSystemExit\u001b[0m\n"
     ]
    }
   ],
   "source": [
    "\"Algorithm 3.4\"\n",
    "import math\n",
    "import sys\n",
    "b = res1\n",
    "cj = 0\n",
    "cjk = 0\n",
    "a = 0\n",
    "alpha = 0\n",
    "CJ = []\n",
    "CJK = []\n",
    "print(b)\n",
    "beta = 31\n",
    "cum1 = 0\n",
    "cum2 = 0\n",
    "cum3 = 0\n",
    "print(e,t,b,beta,N)\n",
    "for j in range(1,2*t+2):\n",
    "    if pow(j,2,N) == beta: #easy check\n",
    "        alpha = j\n",
    "        print(alpha)\n",
    "        print(\"A1\")\n",
    "    else: # Find [a]\n",
    "        cj = Gproduct(j,j,N,beta,2*t)\n",
    "        CJ.append(cj)\n",
    "        print(cj)\n",
    "        if cj != float(\"inf\"):\n",
    "            print(\"A\")\n",
    "            for k in range(0,e-1):\n",
    "                cjk = Gproduct(cj,cj,N,beta,2**k)\n",
    "                print(\"b\")\n",
    "                CJK.append(cjk)\n",
    "                print(cjk)\n",
    "                if pow(cjk,1,N) == 0:\n",
    "                    a = Gproduct(j,j,N,beta,t*(2**k))\n",
    "                    print(a)\n",
    "                    print(\"A2\")\n",
    "                    for i in range(0,1000): # II.3\n",
    "                        alpha = pow(a*b,1,N) + N*i\n",
    "                        if pow(alpha,2,N) == beta:\n",
    "                            print(\"ura\")\n",
    "                            print(alpha)\n",
    "                            sys.exit()\n",
    "                        else:\n",
    "                            cum3 += 1\n",
    "                            if cum3 == 1000:\n",
    "                                print(\"N - composite\")\n",
    "                                sys.exit()\n",
    "                else:\n",
    "                    cum2 += 1\n",
    "                    if cum2 == e - 1:\n",
    "                        print(\"N - composite\")\n",
    "                        sys.exit()\n",
    "        else:\n",
    "            cum1 += 1\n",
    "            if cum1 == 2*t + 1:\n",
    "                print(\"N - composite\")\n",
    "                sys.exit()\n",
    "    \n",
    "print(\"AL\",alpha) "
   ]
  },
  {
   "cell_type": "code",
   "execution_count": null,
   "metadata": {},
   "outputs": [],
   "source": [
    "Gproduct(1,1,41,31,6)"
   ]
  },
  {
   "cell_type": "code",
   "execution_count": null,
   "metadata": {},
   "outputs": [],
   "source": [
    "print(pow(41*15,1,41))\n",
    "print(pow(11,-1,41))\n",
    "print(pow(31,2,41) == 31)\n",
    "        "
   ]
  },
  {
   "cell_type": "code",
   "execution_count": null,
   "metadata": {},
   "outputs": [],
   "source": [
    "print(float(\"inf\"))"
   ]
  },
  {
   "cell_type": "code",
   "execution_count": null,
   "metadata": {},
   "outputs": [],
   "source": [
    "\"Algorithm 2.1\"\n",
    "import math\n",
    "counter = e - 2\n",
    "BETA = []\n",
    "beta = b\n",
    "def FINAL(e,t,b,beta,N):\n",
    "        global counter\n",
    "        for j in range(1,2*t+2):\n",
    "            if pow(j,2,N) == beta:\n",
    "                alpha = j\n",
    "                print(alpha)\n",
    "                print(\"A1\")\n",
    "            else: # compute\n",
    "                cj = Gproduct(j,j,N,beta,2*t)\n",
    "                CJ.append(cj)\n",
    "                if cj != float(\"inf\"):\n",
    "                    for k in range(0,e-1):\n",
    "                        cjk = Gproduct(cj,cj,N,beta,2**k)\n",
    "                        CJK.append(cjk)\n",
    "                        if pow(cjk,1,N) == 0:\n",
    "                            print(\"1\")\n",
    "                            a = Gproduct(j,j,N,beta,t*(2**k))\n",
    "                            for i in range(0,10001): # II.3\n",
    "                                alpha = pow(a*b,1,N) + N*i\n",
    "                                print(\"1\")\n",
    "                                if pow(alpha,2,N) == beta:\n",
    "                                    print(\"ura\")\n",
    "                                    BETA.append(alpha)\n",
    "                                break\n",
    "                        break\n",
    "                elif alpha != 0:\n",
    "                    print(\"2\")\n",
    "                    if counter == 0:\n",
    "                        return \"PRIME\"\n",
    "                    else:\n",
    "                        counter -= 1\n",
    "                        FINAL(e,t,b,alpha,N)\n"
   ]
  },
  {
   "cell_type": "code",
   "execution_count": null,
   "metadata": {
    "scrolled": true
   },
   "outputs": [],
   "source": [
    "import random\n",
    "import math\n",
    "e = random.randrange(100,200,1)\n",
    "t = random.randrange(3,200,2) + 1\n",
    "A = 0\n",
    "if pow(2,e) > t:\n",
    "    A = pow(2,e)*t + 1\n",
    "    print(A)\n",
    "    \n",
    "Number = A\n",
    "N = Number - 1\n",
    "e = 0\n",
    "t = 0\n",
    "while N%2 == 0:\n",
    "    N = N // 2\n",
    "    e += 1\n",
    "    t = N\n",
    "print(e)\n",
    "print(t)  \n",
    "    "
   ]
  },
  {
   "cell_type": "code",
   "execution_count": 1,
   "metadata": {},
   "outputs": [
    {
     "name": "stdout",
     "output_type": "stream",
     "text": [
      "128\n"
     ]
    },
    {
     "ename": "SystemExit",
     "evalue": "",
     "output_type": "error",
     "traceback": [
      "An exception has occurred, use %tb to see the full traceback.\n",
      "\u001b[1;31mSystemExit\u001b[0m\n"
     ]
    },
    {
     "name": "stderr",
     "output_type": "stream",
     "text": [
      "D:\\Anaconda\\Anaconda\\envs\\miemwork\\lib\\site-packages\\IPython\\core\\interactiveshell.py:3425: UserWarning: To exit: use 'exit', 'quit', or Ctrl-D.\n",
      "  warn(\"To exit: use 'exit', 'quit', or Ctrl-D.\", stacklevel=1)\n"
     ]
    }
   ],
   "source": [
    "\"Algorithm 2.2\"\n",
    "import random\n",
    "import math\n",
    "import sys\n",
    "N = 113\n",
    "Number = N - 1\n",
    "e = 0\n",
    "t = 0\n",
    "while Number%2 == 0:\n",
    "    Number = Number // 2\n",
    "    e += 1\n",
    "    t = Number\n",
    "res1 = 0\n",
    "counter1 = 0\n",
    "counter2 = 0\n",
    "cum11 = \"a\"\n",
    "\n",
    "for j in range(1,2*t + 2):\n",
    "    b = pow(j,2*t,N)\n",
    "    if pow(b,1,N) != 1:\n",
    "        for k in range(0,e-1):\n",
    "            bb = pow(b,2**k,N)\n",
    "            if bb == N - 1:\n",
    "                res1 = pow(j,(2**k)*t)\n",
    "                print(res1)\n",
    "                sys.exit()\n",
    "            else:\n",
    "                counter2 += 1\n",
    "                if counter2 == e - 2:\n",
    "                    print(\"N - composite\")\n",
    "                    sys.exit()\n",
    "    else:\n",
    "        counter1 += 1\n",
    "        if counter1 == 2*t + 1:\n",
    "            print(\"N - composite\")\n",
    "            sys.exit()\n"
   ]
  },
  {
   "cell_type": "code",
   "execution_count": 6,
   "metadata": {},
   "outputs": [
    {
     "name": "stdout",
     "output_type": "stream",
     "text": [
      "4 7 0 31 113\n",
      "128\n",
      "Нашли b\n",
      "1\n",
      "0\n",
      "A\n",
      "b\n",
      "0\n",
      "67\n",
      "A2\n",
      "N - composite\n"
     ]
    },
    {
     "ename": "SystemExit",
     "evalue": "",
     "output_type": "error",
     "traceback": [
      "An exception has occurred, use %tb to see the full traceback.\n",
      "\u001b[1;31mSystemExit\u001b[0m\n"
     ]
    }
   ],
   "source": [
    "\"Algorithm 2.2 + 3.4 = 2.1\"\n",
    "import random\n",
    "import math\n",
    "import sys\n",
    "N = 113\n",
    "Number = N - 1\n",
    "e = 0\n",
    "t = 0\n",
    "while Number%2 == 0:\n",
    "    Number = Number // 2\n",
    "    e += 1\n",
    "    t = Number\n",
    "res1 = 0\n",
    "counter1 = 0\n",
    "counter2 = 0\n",
    "b = 0\n",
    "cj = 0\n",
    "cjk = 0\n",
    "a = 0\n",
    "alpha = 0\n",
    "beta = 31\n",
    "cum1 = 0\n",
    "cum2 = 0\n",
    "cum3 = 0\n",
    "print(e,t,b,beta,N)\n",
    "# start 2.2\n"
   ]
  },
  {
   "cell_type": "code",
   "execution_count": 9,
   "metadata": {},
   "outputs": [
    {
     "data": {
      "text/plain": [
       "15"
      ]
     },
     "execution_count": 9,
     "metadata": {},
     "output_type": "execute_result"
    }
   ],
   "source": [
    "pow(128,1,113)"
   ]
  },
  {
   "cell_type": "code",
   "execution_count": 10,
   "metadata": {},
   "outputs": [
    {
     "data": {
      "text/plain": [
       "112"
      ]
     },
     "execution_count": 10,
     "metadata": {},
     "output_type": "execute_result"
    }
   ],
   "source": [
    "pow(15,2,113)"
   ]
  },
  {
   "cell_type": "code",
   "execution_count": null,
   "metadata": {},
   "outputs": [],
   "source": []
  }
 ],
 "metadata": {
  "kernelspec": {
   "display_name": "Python 3",
   "language": "python",
   "name": "python3"
  },
  "language_info": {
   "codemirror_mode": {
    "name": "ipython",
    "version": 3
   },
   "file_extension": ".py",
   "mimetype": "text/x-python",
   "name": "python",
   "nbconvert_exporter": "python",
   "pygments_lexer": "ipython3",
   "version": "3.8.5"
  }
 },
 "nbformat": 4,
 "nbformat_minor": 4
}
