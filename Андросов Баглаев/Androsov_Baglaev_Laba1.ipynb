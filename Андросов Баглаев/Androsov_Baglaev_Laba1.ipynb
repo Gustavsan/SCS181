{
 "cells": [
  {
   "cell_type": "code",
   "execution_count": 1,
   "metadata": {},
   "outputs": [],
   "source": [
    "proth1 = 9857\n",
    "proth2 = 4481\n",
    "proth3 = 2689"
   ]
  },
  {
   "cell_type": "code",
   "execution_count": 2,
   "metadata": {},
   "outputs": [
    {
     "name": "stdout",
     "output_type": "stream",
     "text": [
      "113\n",
      "128\n",
      "TRY\n"
     ]
    }
   ],
   "source": [
    "\"Algorithm 2.2\"\n",
    "import random\n",
    "import math\n",
    "#e = random.randrange(1,1000,1)\n",
    "#t = random.randrange(1,1000,2) + 1\n",
    "#N = 2^e*t + 1\n",
    "t = 7\n",
    "e = 4\n",
    "N = 113\n",
    "print(N)\n",
    "bj = []\n",
    "bi = []\n",
    "i0 = []\n",
    "i1 = []\n",
    "k0 = []\n",
    "a2 = []\n",
    "res1 = 0\n",
    "\n",
    "for j in range(1,2*t + 2):\n",
    "    b = pow(j,2*t,N)\n",
    "    if pow(b,1,N) != 1:\n",
    "        for k in range(0,e-1):\n",
    "            bb = pow(b,2**k,N)\n",
    "            if bb == N-1:\n",
    "                res1 = pow(j,(2**k)*t)\n",
    "                print(res1)\n",
    "        break\n",
    "\n",
    "if pow(res1,2,N) == N - 1:\n",
    "    print(\"TRY\")\n",
    "            "
   ]
  },
  {
   "cell_type": "code",
   "execution_count": 3,
   "metadata": {},
   "outputs": [],
   "source": [
    "def Gproductpow(a,N,B,t):\n",
    "    if t == 0:\n",
    "        return 1\n",
    "    elif t == 1:\n",
    "        return a\n",
    "    elif pow(a,2,N) == B:\n",
    "        return False\n",
    "    else:\n",
    "        if pow(a+a,1,N) == 0:\n",
    "            return float(\"inf\")\n",
    "        elif math.gcd(a+a,N) != 1:\n",
    "            return print(\"N - composite\")\n",
    "        elif math.gcd(a+a,N) == 1:\n",
    "            for i in range (0,1001):\n",
    "                ab = (pow((a*a + B)*(pow(a+a,-1,N)),1,N) + N*i)\n",
    "                if pow(ab,2,N) == B:\n",
    "                      return print(\"N - composite\")\n",
    "                elif t - 1 == 1:\n",
    "                    return ab \n",
    "                else: \n",
    "                    return Gproduct(ab,a,N,B,t-1)\n",
    "                \n",
    "def Gproduct(a,b,N,B,k):\n",
    "    if pow(a,2,N) == B and pow(b,2,N) == B:\n",
    "        return False\n",
    "    elif k == 0:\n",
    "        return 1\n",
    "    elif k == 1 and a == b:\n",
    "        return a\n",
    "    elif k > 1 and a == b:\n",
    "        k -= 1\n",
    "        if pow(a + b,1,N) == 0:\n",
    "            return float(\"inf\")\n",
    "        elif math.gcd(a + b,N) != 1:\n",
    "            return print(\"N - composite\")\n",
    "        elif math.gcd(a + b ,N) == 1:\n",
    "            for i in range (0,1001):\n",
    "                ab = (pow((a*b + B)*(pow(a+b,-1,N)),1,N) + N*i)\n",
    "                if pow(ab,2,N) == B:\n",
    "                      return print(\"N - composite\")\n",
    "                elif k == 1:\n",
    "                    return ab\n",
    "                else:\n",
    "                    return Gproduct(ab,b,N,B,k-1)\n",
    "    else:\n",
    "        if pow(a + b,1,N) == 0:\n",
    "            return float(\"inf\")\n",
    "        elif math.gcd(a + b,N) != 1:\n",
    "            return print(\"N - composite\")\n",
    "        elif math.gcd(a + b ,N) == 1:\n",
    "            for i in range (0,1001):\n",
    "                ab = (pow((a*b + B)*(pow(a+b,-1,N)),1,N) + N*i)\n",
    "                if pow(ab,2,N) == B:\n",
    "                      return print(\"N - composite\")\n",
    "                elif k == 1:\n",
    "                    return ab\n",
    "                else:\n",
    "                    return Gproduct(ab,b,N,B,k-1)\n"
   ]
  },
  {
   "cell_type": "code",
   "execution_count": 20,
   "metadata": {},
   "outputs": [
    {
     "name": "stdout",
     "output_type": "stream",
     "text": [
      "128\n",
      "4 7 128 31 113\n",
      "0\n",
      "A\n",
      "b\n",
      "0\n",
      "67\n",
      "A2\n",
      "ura\n",
      "101\n",
      "94\n",
      "A\n",
      "b\n",
      "94\n",
      "67\n",
      "A\n",
      "b\n",
      "67\n",
      "0\n",
      "A\n",
      "b\n",
      "0\n",
      "67\n",
      "A2\n",
      "ura\n",
      "101\n",
      "94\n",
      "A\n",
      "b\n",
      "94\n",
      "40\n",
      "A\n",
      "b\n",
      "40\n",
      "inf\n",
      "AL 101\n"
     ]
    }
   ],
   "source": [
    "\"Algorithm 3.4\"\n",
    "import math\n",
    "b = res1\n",
    "cj = 0\n",
    "cjk = 0\n",
    "a = 0\n",
    "alpha = 0\n",
    "CJ = []\n",
    "CJK = []\n",
    "print(b)\n",
    "beta = 31\n",
    "print(e,t,b,beta,N)\n",
    "for j in range(1,2*t+2):\n",
    "    if pow(j,2,N) == beta:\n",
    "        alpha = j\n",
    "        print(alpha)\n",
    "        print(\"A1\")\n",
    "    else: # compute\n",
    "        cj = Gproduct(j,j,N,beta,2*t)\n",
    "        CJ.append(cj)\n",
    "        print(cj)\n",
    "        if cj != float(\"inf\"):\n",
    "            print(\"A\")\n",
    "            for k in range(0,e-1):\n",
    "                cjk = Gproduct(cj,cj,N,beta,2**k)\n",
    "                print(\"b\")\n",
    "                CJK.append(cjk)\n",
    "                print(cjk)\n",
    "                if pow(cjk,1,N) == 0:\n",
    "                    a = Gproduct(j,j,N,beta,t*(2**k))\n",
    "                    print(a)\n",
    "                    print(\"A2\")\n",
    "                    for i in range(0,10001): # II.3\n",
    "                        alpha = pow(a*b,1,N) + N*i\n",
    "                        if pow(alpha,2,N) == beta:\n",
    "                            print(\"ura\")\n",
    "                            print(alpha)\n",
    "                        break\n",
    "                break\n",
    "        elif alpha != 0:\n",
    "            break\n",
    "                \n",
    "print(\"AL\",alpha)      "
   ]
  },
  {
   "cell_type": "code",
   "execution_count": 5,
   "metadata": {},
   "outputs": [
    {
     "data": {
      "text/plain": [
       "25"
      ]
     },
     "execution_count": 5,
     "metadata": {},
     "output_type": "execute_result"
    }
   ],
   "source": [
    "Gproduct(1,1,41,31,6)"
   ]
  },
  {
   "cell_type": "code",
   "execution_count": 6,
   "metadata": {},
   "outputs": [
    {
     "name": "stdout",
     "output_type": "stream",
     "text": [
      "0\n",
      "15\n",
      "False\n"
     ]
    }
   ],
   "source": [
    "print(pow(41*15,1,41))\n",
    "print(pow(11,-1,41))\n",
    "print(pow(31,2,41) == 31)\n",
    "        "
   ]
  },
  {
   "cell_type": "code",
   "execution_count": 7,
   "metadata": {},
   "outputs": [
    {
     "name": "stdout",
     "output_type": "stream",
     "text": [
      "inf\n"
     ]
    }
   ],
   "source": [
    "print(float(\"inf\"))"
   ]
  },
  {
   "cell_type": "code",
   "execution_count": 26,
   "metadata": {},
   "outputs": [],
   "source": [
    "\"Algorithm 2.1\"\n",
    "import math\n",
    "counter = e - 2\n",
    "BETA = []\n",
    "beta = b\n",
    "def FINAL(e,t,b,beta,N):\n",
    "        global counter\n",
    "        for j in range(1,2*t+2):\n",
    "            if pow(j,2,N) == beta:\n",
    "                alpha = j\n",
    "                print(alpha)\n",
    "                print(\"A1\")\n",
    "            else: # compute\n",
    "                cj = Gproduct(j,j,N,beta,2*t)\n",
    "                CJ.append(cj)\n",
    "                if cj != float(\"inf\"):\n",
    "                    for k in range(0,e-1):\n",
    "                        cjk = Gproduct(cj,cj,N,beta,2**k)\n",
    "                        CJK.append(cjk)\n",
    "                        if pow(cjk,1,N) == 0:\n",
    "                            print(\"1\")\n",
    "                            a = Gproduct(j,j,N,beta,t*(2**k))\n",
    "                            for i in range(0,10001): # II.3\n",
    "                                alpha = pow(a*b,1,N) + N*i\n",
    "                                print(\"1\")\n",
    "                                if pow(alpha,2,N) == beta:\n",
    "                                    print(\"ura\")\n",
    "                                    BETA.append(alpha)\n",
    "                                break\n",
    "                        break\n",
    "                elif alpha != 0:\n",
    "                    print(\"2\")\n",
    "                    if counter == 0:\n",
    "                        return \"PRIME\"\n",
    "                    else:\n",
    "                        counter -= 1\n",
    "                        FINAL(e,t,b,alpha,N)\n"
   ]
  },
  {
   "cell_type": "code",
   "execution_count": 27,
   "metadata": {
    "scrolled": true
   },
   "outputs": [
    {
     "name": "stdout",
     "output_type": "stream",
     "text": [
      "4 7 128 128 113\n"
     ]
    },
    {
     "ename": "UnboundLocalError",
     "evalue": "local variable 'alpha' referenced before assignment",
     "output_type": "error",
     "traceback": [
      "\u001b[1;31m---------------------------------------------------------------------------\u001b[0m",
      "\u001b[1;31mUnboundLocalError\u001b[0m                         Traceback (most recent call last)",
      "\u001b[1;32m<ipython-input-27-412c1c9c0961>\u001b[0m in \u001b[0;36m<module>\u001b[1;34m\u001b[0m\n\u001b[0;32m      1\u001b[0m \u001b[0mprint\u001b[0m\u001b[1;33m(\u001b[0m\u001b[0me\u001b[0m\u001b[1;33m,\u001b[0m\u001b[0mt\u001b[0m\u001b[1;33m,\u001b[0m\u001b[0mb\u001b[0m\u001b[1;33m,\u001b[0m\u001b[0mbeta\u001b[0m\u001b[1;33m,\u001b[0m\u001b[0mN\u001b[0m\u001b[1;33m)\u001b[0m\u001b[1;33m\u001b[0m\u001b[1;33m\u001b[0m\u001b[0m\n\u001b[1;32m----> 2\u001b[1;33m \u001b[0mFINAL\u001b[0m\u001b[1;33m(\u001b[0m\u001b[0me\u001b[0m\u001b[1;33m,\u001b[0m\u001b[0mt\u001b[0m\u001b[1;33m,\u001b[0m\u001b[0mb\u001b[0m\u001b[1;33m,\u001b[0m\u001b[0mbeta\u001b[0m\u001b[1;33m,\u001b[0m\u001b[0mN\u001b[0m\u001b[1;33m)\u001b[0m\u001b[1;33m\u001b[0m\u001b[1;33m\u001b[0m\u001b[0m\n\u001b[0m\u001b[0;32m      3\u001b[0m \u001b[0mprint\u001b[0m\u001b[1;33m(\u001b[0m\u001b[0mBETA\u001b[0m\u001b[1;33m)\u001b[0m\u001b[1;33m\u001b[0m\u001b[1;33m\u001b[0m\u001b[0m\n",
      "\u001b[1;32m<ipython-input-26-073f574e493a>\u001b[0m in \u001b[0;36mFINAL\u001b[1;34m(e, t, b, beta, N)\u001b[0m\n\u001b[0;32m     29\u001b[0m                                 \u001b[1;32mbreak\u001b[0m\u001b[1;33m\u001b[0m\u001b[1;33m\u001b[0m\u001b[0m\n\u001b[0;32m     30\u001b[0m                         \u001b[1;32mbreak\u001b[0m\u001b[1;33m\u001b[0m\u001b[1;33m\u001b[0m\u001b[0m\n\u001b[1;32m---> 31\u001b[1;33m                 \u001b[1;32melif\u001b[0m \u001b[0malpha\u001b[0m \u001b[1;33m!=\u001b[0m \u001b[1;36m0\u001b[0m\u001b[1;33m:\u001b[0m\u001b[1;33m\u001b[0m\u001b[1;33m\u001b[0m\u001b[0m\n\u001b[0m\u001b[0;32m     32\u001b[0m                     \u001b[0mprint\u001b[0m\u001b[1;33m(\u001b[0m\u001b[1;34m\"2\"\u001b[0m\u001b[1;33m)\u001b[0m\u001b[1;33m\u001b[0m\u001b[1;33m\u001b[0m\u001b[0m\n\u001b[0;32m     33\u001b[0m                     \u001b[1;32mif\u001b[0m \u001b[0mcounter\u001b[0m \u001b[1;33m==\u001b[0m \u001b[1;36m0\u001b[0m\u001b[1;33m:\u001b[0m\u001b[1;33m\u001b[0m\u001b[1;33m\u001b[0m\u001b[0m\n",
      "\u001b[1;31mUnboundLocalError\u001b[0m: local variable 'alpha' referenced before assignment"
     ]
    }
   ],
   "source": [
    "print(e,t,b,beta,N)\n",
    "FINAL(e,t,b,beta,N)\n",
    "print(BETA)"
   ]
  },
  {
   "cell_type": "code",
   "execution_count": null,
   "metadata": {},
   "outputs": [],
   "source": []
  }
 ],
 "metadata": {
  "kernelspec": {
   "display_name": "Python 3",
   "language": "python",
   "name": "python3"
  },
  "language_info": {
   "codemirror_mode": {
    "name": "ipython",
    "version": 3
   },
   "file_extension": ".py",
   "mimetype": "text/x-python",
   "name": "python",
   "nbconvert_exporter": "python",
   "pygments_lexer": "ipython3",
   "version": "3.8.5"
  }
 },
 "nbformat": 4,
 "nbformat_minor": 4
}
